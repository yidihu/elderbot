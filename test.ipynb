{
 "cells": [
  {
   "cell_type": "code",
   "execution_count": null,
   "metadata": {},
   "outputs": [],
   "source": []
  },
  {
   "cell_type": "code",
   "execution_count": null,
   "metadata": {},
   "outputs": [],
   "source": []
  },
  {
   "cell_type": "code",
   "execution_count": null,
   "metadata": {},
   "outputs": [],
   "source": []
  },
  {
   "cell_type": "code",
   "execution_count": null,
   "metadata": {},
   "outputs": [],
   "source": []
  },
  {
   "cell_type": "code",
   "execution_count": null,
   "metadata": {},
   "outputs": [],
   "source": []
  },
  {
   "cell_type": "code",
   "execution_count": null,
   "metadata": {},
   "outputs": [],
   "source": []
  },
  {
   "cell_type": "code",
   "execution_count": 1,
   "metadata": {},
   "outputs": [
    {
     "name": "stdout",
     "output_type": "stream",
     "text": [
      "BOB: Good day! My name is Bob. Ask away!\n",
      "     If you want to see our last conversation: type 'last conversation'\n",
      "     If you want to exit: type 'Bye'\n",
      "     If you want to see our conversation summary: type 'analysis'\n",
      "YOU: what is flu?\n",
      "\n",
      "Bob:  I see you are asking a question about Med!\n",
      "\n",
      "Bob:  I find some useful websites! Let me look into them :)\n",
      "https://www.webmd.com/cold-and-flu/default.htm\n",
      "https://symptoms.webmd.com/cold-flu-map/slideshow-things-to-disinfect\n",
      "https://www.webmd.com/cold-and-flu/video/flu-shots-and-pregnancy\n",
      "https://www.webmd.com/vitamins/ai/ingredientmono-4/glycerol\n",
      "https://www.webmd.com/cold-and-flu/qa/what-is-influenza\n",
      "https://www.webmd.com/cold-and-flu/qa/what-is-the-flu\n",
      "https://www.webmd.com/cold-and-flu/flu-vaccine-directory\n",
      "https://www.webmd.com/cold-and-flu/bird-avian-flu-directory\n",
      "https://www.webmd.com/cold-and-flu/qa/is-influenza-or-the-flu-the-same-as-the-stomach-flu\n",
      "https://www.webmd.com/cold-and-flu/flu-guide/h1n1-flu-virus-swine-flu\n",
      "https://www.webmd.com/cold-and-flu/qa/can-flu-shots-cause-the-flu\n",
      "https://www.webmd.com/cold-and-flu/qa/why-is-swine-flu-called-swine-flu\n",
      "https://www.webmd.com/cold-and-flu/qa/can-i-get-the-flu-from-the-flu-vaccine\n",
      "https://www.webmd.com/cold-and-flu/flu-guide/spreading-flu-do-you-know-the-rules\n",
      "\n",
      "Bob:  answer flu, or influenza, is a contagious respiratory infection caused by a variety of flu viruses. symptoms of flu involve muscle aches and soreness, headache, and fever.\n",
      "\n",
      "Bob:  answer forget what you might have heard. you can’t get the flu from the flu vaccine, but you may have side effects that mimic cold or flu symptoms. some of these are: the nasal spray vaccine can also cause a runny nose, headache, vomiting, fever, wheezing, and muscle aches.\n",
      "\n",
      "Bob:  however, the vaccine can trigger an immune response from your body, so you may have a few mild symptoms, like achy muscles or a low-grade fever. the nasal flu vaccine, flumist, is made with a weakened live flu virus. it also cannot give you the flu, but is more likely to cause symptoms such as achy muscles or a low fever.\n",
      "\n",
      "Bob:  Is this response what you were looking for?\n",
      "YOU: yes\n",
      "\n",
      "Bob:  Brilliant!\n"
     ]
    }
   ],
   "source": [
    "from utils.interaction import bot\n",
    "b = bot()"
   ]
  },
  {
   "cell_type": "code",
   "execution_count": null,
   "metadata": {},
   "outputs": [],
   "source": [
    "from utils.retriever import crawl_web"
   ]
  },
  {
   "cell_type": "code",
   "execution_count": 2,
   "metadata": {},
   "outputs": [
    {
     "name": "stdout",
     "output_type": "stream",
     "text": [
      "BOB: Good day! My name is Bob. Ask away!\n",
      "     If you want to see our last conversation: type 'last conversation'\n",
      "     If you want to exit: type 'Bye'\n",
      "     If you want to see our conversation summary: type 'analysis'\n",
      "YOU: last conversation\n",
      "\n",
      "Bob:  On 13/05/2020, 13: 17: 55, \n",
      " --> You said to me: what is flu?\n",
      " And I answered: answer flu, or influenza, is a contagious respiratory infection caused by a variety of flu viruses. symptoms of flu involve muscle aches and soreness, headache, and fever. answer forget what you might have heard. you can’t get the flu from the flu vaccine, but you may have side effects that mimic cold or flu symptoms. some of these are: the nasal spray vaccine can also cause a runny nose, headache, vomiting, fever, wheezing, and muscle aches. however, the vaccine can trigger an immune response from your body, so you may have a few mild symptoms, like achy muscles or a low-grade fever. the nasal flu vaccine, flumist, is made with a weakened live flu virus. it also cannot give you the flu, but is more likely to cause symptoms such as achy muscles or a low fever.\n",
      "YOU: thanks\n",
      "\n",
      "Bob:  You are welcome..\n"
     ]
    }
   ],
   "source": [
    "b.talk()"
   ]
  },
  {
   "cell_type": "code",
   "execution_count": null,
   "metadata": {},
   "outputs": [],
   "source": []
  }
 ],
 "metadata": {
  "kernelspec": {
   "display_name": "Python 3",
   "language": "python",
   "name": "python3"
  },
  "language_info": {
   "codemirror_mode": {
    "name": "ipython",
    "version": 3
   },
   "file_extension": ".py",
   "mimetype": "text/x-python",
   "name": "python",
   "nbconvert_exporter": "python",
   "pygments_lexer": "ipython3",
   "version": "3.7.4"
  }
 },
 "nbformat": 4,
 "nbformat_minor": 2
}
